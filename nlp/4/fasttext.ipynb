{
 "cells": [
  {
   "cell_type": "code",
   "execution_count": null,
   "metadata": {
    "ExecuteTime": {
     "end_time": "2020-07-27T02:58:06.173497Z",
     "start_time": "2020-07-27T02:58:05.663681Z"
    }
   },
   "outputs": [],
   "source": [
    "import pandas as pd\n",
    "from sklearn.metrics import f1_score\n",
    "\n",
    "\n",
    "\n",
    "\n",
    "def train(train_df,test_df):\n",
    "    train_df['label_ft'] = '__label__' + train_df['label'].astype(str)\n",
    "    train_df[['text','label_ft']].to_csv('train.csv', index=None, header=None, sep='\\t')\n",
    "\n",
    "    import fasttext\n",
    "    model = fasttext.train_supervised('train.csv', lr=1.0, wordNgrams=2,\n",
    "                                  verbose=2, minCount=1, epoch=50, loss=\"hs\")\n",
    "\n",
    "\n",
    "    val_pred = [model.predict(x)[0][0].split('__')[-1] for x in test_df['text']]\n",
    "    print(f1_score(test_df['label'].values.astype(str), val_pred, average='macro'))\n",
    "\n"
   ]
  },
  {
   "cell_type": "code",
   "execution_count": null,
   "metadata": {
    "ExecuteTime": {
     "start_time": "2020-07-27T02:58:11.478Z"
    }
   },
   "outputs": [],
   "source": [
    "# 转换为FastText需要的格式\n",
    "from sklearn.model_selection import KFold\n",
    "train_df = pd.read_csv('/home/hy/Documents/tianchi/train_set.csv', sep='\\t', nrows=20000)\n",
    "KF = KFold(n_splits=10,shuffle=True)\n",
    "\n",
    "for train_index,test_index in KF.split(train_df):\n",
    "    train(train_df.iloc[train_index].copy(deep=True),train_df.iloc[test_index].copy(deep=True))\n",
    "\n"
   ]
  },
  {
   "cell_type": "code",
   "execution_count": null,
   "metadata": {},
   "outputs": [],
   "source": [
    "train_df = pd.read_csv('/home/hy/Documents/tianchi/train_set.csv', sep='\\t', nrows=20000)\n",
    "train_df['label_ft'] = '__label__' + train_df['label'].astype(str)\n",
    "train_df[['text','label_ft']].to_csv('train.csv', index=None, header=None, sep='\\t')\n",
    "def BayesCV(lr,word_ngrams,verbose,minCount,epoch):\n",
    "    import fasttext\n",
    "    model = fasttext.train_supervised('train.csv', lr=lr, wordNgrams=word_ngrams,\n",
    "                                  verbose=verbose, minCount=minCount, epoch=epoch, loss=\"hs\")\n",
    "    val_pred = [model.predict(x)[0][0].split('__')[-1] for x in test_df['text']]\n",
    "    return f1_score(test_df['label'].values.astype(str), val_pred, average='macro')\n",
    "    \n",
    "gbdt_op = BayesianOptimization(\n",
    "        BayesCV,\n",
    "        {\n",
    "        'lr': (0, 1),\n",
    "        'word_ngrams': (1, 2),\n",
    "        'verbose': (0, 2),\n",
    "        'minCount': (1, 2),\n",
    "        'epoch':(30,55)\n",
    "        }\n",
    "    )\n",
    "\n",
    "gbdt_op.maximize()"
   ]
  }
 ],
 "metadata": {
  "kernelspec": {
   "display_name": "Python 3",
   "language": "python",
   "name": "python3"
  },
  "language_info": {
   "codemirror_mode": {
    "name": "ipython",
    "version": 3
   },
   "file_extension": ".py",
   "mimetype": "text/x-python",
   "name": "python",
   "nbconvert_exporter": "python",
   "pygments_lexer": "ipython3",
   "version": "3.7.3"
  },
  "toc": {
   "base_numbering": 1,
   "nav_menu": {},
   "number_sections": true,
   "sideBar": true,
   "skip_h1_title": false,
   "title_cell": "Table of Contents",
   "title_sidebar": "Contents",
   "toc_cell": false,
   "toc_position": {},
   "toc_section_display": true,
   "toc_window_display": false
  },
  "varInspector": {
   "cols": {
    "lenName": 16,
    "lenType": 16,
    "lenVar": 40
   },
   "kernels_config": {
    "python": {
     "delete_cmd_postfix": "",
     "delete_cmd_prefix": "del ",
     "library": "var_list.py",
     "varRefreshCmd": "print(var_dic_list())"
    },
    "r": {
     "delete_cmd_postfix": ") ",
     "delete_cmd_prefix": "rm(",
     "library": "var_list.r",
     "varRefreshCmd": "cat(var_dic_list()) "
    }
   },
   "types_to_exclude": [
    "module",
    "function",
    "builtin_function_or_method",
    "instance",
    "_Feature"
   ],
   "window_display": false
  }
 },
 "nbformat": 4,
 "nbformat_minor": 1
}