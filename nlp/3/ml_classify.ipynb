{
 "cells": [
  {
   "cell_type": "code",
   "execution_count": 2,
   "metadata": {
    "ExecuteTime": {
     "end_time": "2020-07-23T12:52:12.417933Z",
     "start_time": "2020-07-23T12:49:47.819858Z"
    },
    "pycharm": {
     "is_executing": true
    }
   },
   "outputs": [],
   "source": [
    "from sklearn.feature_extraction.text import TfidfVectorizer as TFIDF\n",
    "import pandas as pd\n",
    "\n",
    "train_df = pd.read_csv('/home/hy/Documents/tianchi/train_set.csv', sep='\\t',nrows=30000)\n",
    "Xtrain = train_df['text']\n",
    "Xtest = pd.read_csv('/home/hy/Documents/tianchi/test_a.csv', sep='\\t')['text']\n",
    "Ytrain = train_df['label']\n",
    "Ytest = pd.read_csv('/home/hy/Documents/tianchi/test_a_sample_submit.csv', sep='\\t')['label']\n",
    "tfidf = TFIDF(ngram_range=(1,2), max_features=3000).fit(Xtrain)\n",
    "Xtrain_ = tfidf.transform(Xtrain)\n",
    "Xtest_ = tfidf.transform(Xtest)"
   ]
  },
  {
   "cell_type": "code",
   "execution_count": 3,
   "metadata": {
    "ExecuteTime": {
     "end_time": "2020-07-23T12:53:13.478704Z",
     "start_time": "2020-07-23T12:52:55.876608Z"
    },
    "pycharm": {
     "name": "#%%\n"
    }
   },
   "outputs": [
    {
     "name": "stdout",
     "output_type": "stream",
     "text": [
      "0.8878147037569715\n"
     ]
    }
   ],
   "source": [
    "## 作业一  tfidf ngram_range（1,2） F1 score 降低，增大训练样本能提高准确率，训练速度非常快\n",
    "from sklearn.linear_model import RidgeClassifier\n",
    "from sklearn.metrics import f1_score\n",
    "clf = RidgeClassifier()\n",
    "clf.fit(Xtrain_[:20000], Ytrain[:20000])\n",
    "\n",
    "val_pred = clf.predict(Xtrain_[20000:])\n",
    "print(f1_score(Ytrain.values[20000:], val_pred, average='macro'))\n"
   ]
  },
  {
   "cell_type": "code",
   "execution_count": 5,
   "metadata": {
    "ExecuteTime": {
     "end_time": "2020-07-24T01:22:57.175450Z",
     "start_time": "2020-07-24T01:05:42.992176Z"
    },
    "pycharm": {
     "name": "#%%\n"
    }
   },
   "outputs": [
    {
     "name": "stdout",
     "output_type": "stream",
     "text": [
      "\tAccuracy:0.895\n"
     ]
    }
   ],
   "source": [
    "### 作业二  用svm分类器，默认rf核 没有过多设置 已经比上面准确率高，但是训练非常慢，需要半个小时\n",
    "from sklearn.svm import SVC\n",
    "\n",
    "clf = SVC(gamma='scale')\n",
    "clf.fit(Xtrain_[:20000],Ytrain[:20000])\n",
    "val_pred = clf.predict(Xtrain_[20000:])\n",
    "\n",
    "score = f1_score(Ytrain.values[20000:], val_pred, average='macro')\n",
    "print(\"\\tAccuracy:{:.3f}\".format(score))\n"
   ]
  },
  {
   "cell_type": "code",
   "execution_count": null,
   "metadata": {},
   "outputs": [],
   "source": []
  }
 ],
 "metadata": {
  "kernelspec": {
   "display_name": "Python 3",
   "language": "python",
   "name": "python3"
  },
  "language_info": {
   "codemirror_mode": {
    "name": "ipython",
    "version": 3
   },
   "file_extension": ".py",
   "mimetype": "text/x-python",
   "name": "python",
   "nbconvert_exporter": "python",
   "pygments_lexer": "ipython3",
   "version": "3.7.3"
  },
  "toc": {
   "base_numbering": 1,
   "nav_menu": {},
   "number_sections": true,
   "sideBar": true,
   "skip_h1_title": false,
   "title_cell": "Table of Contents",
   "title_sidebar": "Contents",
   "toc_cell": false,
   "toc_position": {},
   "toc_section_display": true,
   "toc_window_display": false
  },
  "varInspector": {
   "cols": {
    "lenName": 16,
    "lenType": 16,
    "lenVar": 40
   },
   "kernels_config": {
    "python": {
     "delete_cmd_postfix": "",
     "delete_cmd_prefix": "del ",
     "library": "var_list.py",
     "varRefreshCmd": "print(var_dic_list())"
    },
    "r": {
     "delete_cmd_postfix": ") ",
     "delete_cmd_prefix": "rm(",
     "library": "var_list.r",
     "varRefreshCmd": "cat(var_dic_list()) "
    }
   },
   "types_to_exclude": [
    "module",
    "function",
    "builtin_function_or_method",
    "instance",
    "_Feature"
   ],
   "window_display": false
  }
 },
 "nbformat": 4,
 "nbformat_minor": 1
}