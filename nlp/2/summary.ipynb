{
 "cells": [
  {
   "cell_type": "code",
   "execution_count": 9,
   "metadata": {
    "ExecuteTime": {
     "end_time": "2020-07-22T08:26:47.315709Z",
     "start_time": "2020-07-22T08:26:31.007820Z"
    },
    "pycharm": {
     "is_executing": true
    }
   },
   "outputs": [
    {
     "name": "stdout",
     "output_type": "stream",
     "text": [
      "count    200000.000000\n",
      "mean        907.207110\n",
      "std         996.029036\n",
      "min           2.000000\n",
      "25%         374.000000\n",
      "50%         676.000000\n",
      "75%        1131.000000\n",
      "max       57921.000000\n",
      "Name: text_len, dtype: float64\n"
     ]
    }
   ],
   "source": [
    "\n",
    "import pandas as pd\n",
    "\n",
    "train_df = pd.read_csv('/home/hy/Documents/tianchi/train_set.csv', sep='\\t')\n",
    "train_df['text_len'] = train_df['text'].apply(lambda x: len(x.split(' ')))\n",
    "print(train_df['text_len'].describe())"
   ]
  },
  {
   "cell_type": "code",
   "execution_count": 13,
   "metadata": {
    "ExecuteTime": {
     "end_time": "2020-07-22T08:30:56.103084Z",
     "start_time": "2020-07-22T08:30:49.468116Z"
    }
   },
   "outputs": [
    {
     "data": {
      "text/plain": [
       "count    200000.000000\n",
       "mean         78.094350\n",
       "std          84.052108\n",
       "min           1.000000\n",
       "25%          27.000000\n",
       "50%          55.000000\n",
       "75%         100.000000\n",
       "max        3351.000000\n",
       "Name: sents_len, dtype: float64"
      ]
     },
     "execution_count": 13,
     "metadata": {},
     "output_type": "execute_result"
    }
   ],
   "source": [
    "### 作业一：\n",
    "import re\n",
    "train_df['sents_len'] = train_df['text'].apply(lambda x: len(re.split(r' 3750 | 900 | 648 ', x)))\n",
    "train_df['sents_len'].describe()"
   ]
  },
  {
   "cell_type": "code",
   "execution_count": null,
   "metadata": {
    "ExecuteTime": {
     "start_time": "2020-07-22T09:07:36.651Z"
    }
   },
   "outputs": [],
   "source": [
    "### 作业二：\n",
    "with open('/home/hy/Documents/tianchi/train_set.csv') as train_file:\n",
    "    label_word_set = {}\n",
    "    result = {}\n",
    "    train_file.readline()\n",
    "    for line in train_file:\n",
    "        label_sentence = line.split(\"\\t\")\n",
    "        if len(label_sentence)!=2:\n",
    "            continue\n",
    "        label = label_sentence[0]\n",
    "        if label not in label_word_set:\n",
    "            label_word_set[label] = {}\n",
    "        sentence = label_sentence[1]\n",
    "        words = sentence.split(\" \")\n",
    "        for word in words:\n",
    "            if word in label_word_set[label]:\n",
    "                label_word_set[label][word] += 1\n",
    "            else:\n",
    "                label_word_set[label][word] = 1\n",
    "    for label in label_word_set:\n",
    "        result[label] = list(sorted(label_word_set[label].items(), key=lambda d:d[1], reverse = True))\n",
    "    for label in label_word_set:\n",
    "        print(label)\n",
    "        print(len(result[label]))\n",
    "        print(result[label][0])\n",
    "        print(result[label][len(result[label])-1])\n",
    "        print(\"============================================\")"
   ]
  },
  {
   "cell_type": "code",
   "execution_count": 9,
   "metadata": {
    "ExecuteTime": {
     "end_time": "2020-07-22T07:13:39.161499Z",
     "start_time": "2020-07-22T07:13:38.682207Z"
    },
    "pycharm": {
     "is_executing": true,
     "name": "#%%\n"
    }
   },
   "outputs": [
    {
     "name": "stdout",
     "output_type": "stream",
     "text": [
      "Populating the interactive namespace from numpy and matplotlib\n"
     ]
    },
    {
     "data": {
      "text/plain": [
       "Text(0.5, 1.0, 'Histogram of char count')"
      ]
     },
     "execution_count": 9,
     "metadata": {},
     "output_type": "execute_result"
    },
    {
     "data": {
      "image/png": "[encoded data removed]",
      "text/plain": [
       "<Figure size 432x288 with 1 Axes>"
      ]
     },
     "metadata": {
      "needs_background": "light"
     },
     "output_type": "display_data"
    }
   ],
   "source": [
    "%pylab inline\n",
    "_ = plt.hist(train_df['text_len'], bins=200)\n",
    "plt.xlabel('Text char count')\n",
    "plt.title(\"Histogram of char count\")"
   ]
  },
  {
   "cell_type": "code",
   "execution_count": 10,
   "metadata": {
    "ExecuteTime": {
     "end_time": "2020-07-22T07:13:42.107713Z",
     "start_time": "2020-07-22T07:13:41.765744Z"
    },
    "pycharm": {
     "is_executing": true
    }
   },
   "outputs": [
    {
     "data": {
      "text/plain": [
       "Text(0.5, 0, 'category')"
      ]
     },
     "execution_count": 10,
     "metadata": {},
     "output_type": "execute_result"
    },
    {
     "data": {
      "image/png": "[encoded data removed]",
      "text/plain": [
       "<Figure size 432x288 with 1 Axes>"
      ]
     },
     "metadata": {
      "needs_background": "light"
     },
     "output_type": "display_data"
    }
   ],
   "source": [
    "train_df['label'].value_counts().plot(kind='bar')\n",
    "plt.title('News class count')\n",
    "plt.xlabel(\"category\")"
   ]
  },
  {
   "cell_type": "code",
   "execution_count": 4,
   "metadata": {
    "ExecuteTime": {
     "end_time": "2020-07-22T08:16:55.675531Z",
     "start_time": "2020-07-22T08:16:09.535710Z"
    },
    "pycharm": {
     "name": "#%%\n"
    }
   },
   "outputs": [
    {
     "name": "stdout",
     "output_type": "stream",
     "text": [
      "20572\n",
      "('3750', 7482207)\n",
      "('0\\t6689', 1)\n"
     ]
    }
   ],
   "source": [
    "###  all_lines = train_df['text'].apply(lambda x: set(x.split(\" \")))\n",
    "###  这种方式直接oom了 改用读文件的方式\n",
    "with open('/home/hy/Documents/tianchi/train_set.csv') as train_file:\n",
    "    word_set = {}\n",
    "    for line in train_file:\n",
    "        words = line.split(\" \")\n",
    "        for word in words:\n",
    "            if word in word_set:\n",
    "                word_set[word] += 1\n",
    "            else:\n",
    "                word_set[word] = 1\n",
    "    print(len(word_set))\n",
    "    sorted_word_list = list(sorted(word_set.items(), key=lambda d:d[1], reverse = True))\n",
    "    print(sorted_word_list[0])\n",
    "    print(sorted_word_list[len(sorted_word_list)-1])\n",
    "    "
   ]
  },
  {
   "cell_type": "code",
   "execution_count": null,
   "metadata": {},
   "outputs": [],
   "source": []
  }
 ],
 "metadata": {
  "kernelspec": {
   "display_name": "Python 3",
   "language": "python",
   "name": "python3"
  },
  "language_info": {
   "codemirror_mode": {
    "name": "ipython",
    "version": 3
   },
   "file_extension": ".py",
   "mimetype": "text/x-python",
   "name": "python",
   "nbconvert_exporter": "python",
   "pygments_lexer": "ipython3",
   "version": "3.7.3"
  },
  "toc": {
   "base_numbering": 1,
   "nav_menu": {},
   "number_sections": true,
   "sideBar": true,
   "skip_h1_title": false,
   "title_cell": "Table of Contents",
   "title_sidebar": "Contents",
   "toc_cell": false,
   "toc_position": {},
   "toc_section_display": true,
   "toc_window_display": false
  },
  "varInspector": {
   "cols": {
    "lenName": 16,
    "lenType": 16,
    "lenVar": 40
   },
   "kernels_config": {
    "python": {
     "delete_cmd_postfix": "",
     "delete_cmd_prefix": "del ",
     "library": "var_list.py",
     "varRefreshCmd": "print(var_dic_list())"
    },
    "r": {
     "delete_cmd_postfix": ") ",
     "delete_cmd_prefix": "rm(",
     "library": "var_list.r",
     "varRefreshCmd": "cat(var_dic_list()) "
    }
   },
   "types_to_exclude": [
    "module",
    "function",
    "builtin_function_or_method",
    "instance",
    "_Feature"
   ],
   "window_display": false
  }
 },
 "nbformat": 4,
 "nbformat_minor": 1
}