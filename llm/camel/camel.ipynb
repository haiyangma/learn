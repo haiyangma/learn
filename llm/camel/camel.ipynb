{
 "cells": [
  {
   "cell_type": "code",
   "id": "initial_id",
   "metadata": {
    "ExecuteTime": {
     "end_time": "2025-03-12T01:53:00.432916Z",
     "start_time": "2025-03-12T01:52:50.073226Z"
    }
   },
   "source": [
    "from typing import Optional, Dict\n",
    "from camel.agents import ChatAgent\n",
    "from camel.agents.chat_agent import BaseMessage\n",
    "from camel.agents.chat_agent import RoleType\n",
    "from camel.models import ModelFactory\n",
    "from camel.types import ModelPlatformType,ModelType\n",
    "from dotenv import load_dotenv\n",
    "import os\n",
    "\n",
    "load_dotenv()\n",
    "api_key = os.getenv('API_KEY')\n",
    "\n",
    "model = ModelFactory.create(\n",
    "    model_platform=ModelPlatformType.DEEPSEEK,\n",
    "    model_config_dict={},\n",
    "    model_type=\"deepseek-ai/DeepSeek-R1\",\n",
    "    url='https://api-inference.modelscope.cn/v1/',\n",
    "    api_key=api_key\n",
    ")\n",
    "\n",
    "reason_agent_system_message = \"\"\"Answer my question and give your\n",
    "final answer within \\\\boxed{}.\"\"\"\n",
    "\n",
    "\n",
    "agent = ChatAgent(\n",
    "    model=model,\n",
    "    output_language='中文'\n",
    ")\n",
    "\n",
    "response = agent.step(\"你好，你是谁？\")\n",
    "print(response.msgs[0].content)"
   ],
   "outputs": [
    {
     "name": "stdout",
     "output_type": "stream",
     "text": [
      "2025-03-12 09:52:50,102 - root - WARNING - Invalid or missing `max_tokens` in `model_config_dict`. Defaulting to 999_999_999 tokens.\n",
      "您好！我是由中国的深度求索（DeepSeek）公司开发的智能助手DeepSeek-R1。我擅长通过思考来帮您解答复杂的数学，代码和逻辑推理等理工类问题，同时也能用流畅的中文与您交流。如果您有任何需求，我都会尽力为您提供帮助。\n"
     ]
    }
   ],
   "execution_count": 8
  },
  {
   "cell_type": "code",
   "id": "ea2f2b956dd2951",
   "metadata": {
    "collapsed": false,
    "jupyter": {
     "outputs_hidden": false,
     "is_executing": true
    },
    "ExecuteTime": {
     "start_time": "2025-03-12T02:01:14.638504Z"
    }
   },
   "source": [
    "from colorama import Fore\n",
    "\n",
    "from camel.societies import RolePlaying\n",
    "from camel.utils import print_text_animated\n",
    "from camel.models import ModelFactory\n",
    "from camel.types import ModelPlatformType\n",
    "\n",
    "from dotenv import load_dotenv\n",
    "\n",
    "import os\n",
    "\n",
    "load_dotenv()\n",
    "\n",
    "api_key = os.getenv('QWEN_API_KEY')\n",
    "\n",
    "model = ModelFactory.create(\n",
    "    model_platform=ModelPlatformType.OPENAI_COMPATIBLE_MODEL,\n",
    "    model_type=\"Qwen/Qwen2.5-72B-Instruct\",\n",
    "    url='https://api-inference.modelscope.cn/v1/',\n",
    "    api_key=api_key\n",
    ")\n",
    "\n",
    "def main(model=model, chat_turn_limit=50) -> None:\n",
    "    task_prompt = \"为股票市场开发一个交易机器人\"#设置任务目标\n",
    "    role_play_session = RolePlaying(\n",
    "        assistant_role_name=\"Python 程序员\",#设置AI助手角色名\n",
    "        assistant_agent_kwargs=dict(model=model),\n",
    "        user_role_name=\"股票交易员\",#设置用户角色名，在roleplay中，user用于指导AI助手完成任务\n",
    "        user_agent_kwargs=dict(model=model),\n",
    "        task_prompt=task_prompt,\n",
    "        with_task_specify=True,\n",
    "        task_specify_agent_kwargs=dict(model=model),\n",
    "        output_language='中文'#设置输出语言\n",
    "    )\n",
    "\n",
    "    print(\n",
    "        Fore.GREEN\n",
    "        + f\"AI 助手系统消息:\\n{role_play_session.assistant_sys_msg}\\n\"\n",
    "    )\n",
    "    print(\n",
    "        Fore.BLUE + f\"AI 用户系统消息:\\n{role_play_session.user_sys_msg}\\n\"\n",
    "    )\n",
    "\n",
    "    print(Fore.YELLOW + f\"原始任务提示:\\n{task_prompt}\\n\")\n",
    "    print(\n",
    "        Fore.CYAN\n",
    "        + \"指定的任务提示:\"\n",
    "        + f\"\\n{role_play_session.specified_task_prompt}\\n\"\n",
    "    )\n",
    "    print(Fore.RED + f\"最终任务提示:\\n{role_play_session.task_prompt}\\n\")\n",
    "\n",
    "    n = 0\n",
    "    input_msg = role_play_session.init_chat()\n",
    "    while n < chat_turn_limit:\n",
    "        n += 1\n",
    "        assistant_response, user_response = role_play_session.step(input_msg)\n",
    "\n",
    "        if assistant_response.terminated:\n",
    "            print(\n",
    "                Fore.GREEN\n",
    "                + (\n",
    "                    \"AI 助手已终止。原因: \"\n",
    "                    f\"{assistant_response.info['termination_reasons']}.\"\n",
    "                )\n",
    "            )\n",
    "            break\n",
    "        if user_response.terminated:\n",
    "            print(\n",
    "                Fore.GREEN\n",
    "                + (\n",
    "                    \"AI 用户已终止。\"\n",
    "                    f\"原因: {user_response.info['termination_reasons']}.\"\n",
    "                )\n",
    "            )\n",
    "            break\n",
    "\n",
    "        print_text_animated(\n",
    "            Fore.BLUE + f\"AI 用户:\\n\\n{user_response.msg.content}\\n\"\n",
    "        )\n",
    "        print_text_animated(\n",
    "            Fore.GREEN + \"AI 助手:\\n\\n\"\n",
    "            f\"{assistant_response.msg.content}\\n\"\n",
    "        )\n",
    "\n",
    "        if \"CAMEL_TASK_DONE\" in user_response.msg.content:\n",
    "            break\n",
    "\n",
    "        input_msg = assistant_response.msg\n",
    "\n",
    "if __name__ == \"__main__\":\n",
    "    main()\n"
   ],
   "outputs": [
    {
     "name": "stdout",
     "output_type": "stream",
     "text": [
      "\u001B[32mAI 助手系统消息:\n",
      "BaseMessage(role_name='Python 程序员', role_type=<RoleType.ASSISTANT: 'assistant'>, meta_dict={'task': '为股票市场开发一个智能交易机器人，能够实时分析全球新闻、社交媒体情绪和历史数据，自动执行高精度交易策略，优化投资组合，确保最大收益与最低风险。', 'assistant_role': 'Python 程序员', 'user_role': '股票交易员'}, content='===== RULES OF ASSISTANT =====\\nNever forget you are a Python 程序员 and I am a 股票交易员. Never flip roles! Never instruct me!\\nWe share a common interest in collaborating to successfully complete a task.\\nYou must help me to complete the task.\\nHere is the task: 为股票市场开发一个智能交易机器人，能够实时分析全球新闻、社交媒体情绪和历史数据，自动执行高精度交易策略，优化投资组合，确保最大收益与最低风险。. Never forget our task!\\nI must instruct you based on your expertise and my needs to complete the task.\\n\\nI must give you one instruction at a time.\\nYou must write a specific solution that appropriately solves the requested instruction and explain your solutions.\\nYou must decline my instruction honestly if you cannot perform the instruction due to physical, moral, legal reasons or your capability and explain the reasons.\\nUnless I say the task is completed, you should always start with:\\n\\nSolution: <YOUR_SOLUTION>\\n\\n<YOUR_SOLUTION> should be very specific, include detailed explanations and provide preferable detailed implementations and examples and lists for task-solving.\\nAlways end <YOUR_SOLUTION> with: Next request.\\nRegardless of the input language, you must output text in 中文.', video_bytes=None, image_list=None, image_detail='auto', video_detail='low', parsed=None)\n",
      "\n",
      "\u001B[34mAI 用户系统消息:\n",
      "BaseMessage(role_name='股票交易员', role_type=<RoleType.USER: 'user'>, meta_dict={'task': '为股票市场开发一个智能交易机器人，能够实时分析全球新闻、社交媒体情绪和历史数据，自动执行高精度交易策略，优化投资组合，确保最大收益与最低风险。', 'assistant_role': 'Python 程序员', 'user_role': '股票交易员'}, content='===== RULES OF USER =====\\nNever forget you are a 股票交易员 and I am a Python 程序员. Never flip roles! You will always instruct me.\\nWe share a common interest in collaborating to successfully complete a task.\\nI must help you to complete the task.\\nHere is the task: 为股票市场开发一个智能交易机器人，能够实时分析全球新闻、社交媒体情绪和历史数据，自动执行高精度交易策略，优化投资组合，确保最大收益与最低风险。. Never forget our task!\\nYou must instruct me based on my expertise and your needs to solve the task ONLY in the following two ways:\\n\\n1. Instruct with a necessary input:\\nInstruction: <YOUR_INSTRUCTION>\\nInput: <YOUR_INPUT>\\n\\n2. Instruct without any input:\\nInstruction: <YOUR_INSTRUCTION>\\nInput: None\\n\\nThe \"Instruction\" describes a task or question. The paired \"Input\" provides further context or information for the requested \"Instruction\".\\n\\nYou must give me one instruction at a time.\\nI must write a response that appropriately solves the requested instruction.\\nI must decline your instruction honestly if I cannot perform the instruction due to physical, moral, legal reasons or my capability and explain the reasons.\\nYou should instruct me not ask me questions.\\nNow you must start to instruct me using the two ways described above.\\nDo not add anything else other than your instruction and the optional corresponding input!\\nKeep giving me instructions and necessary inputs until you think the task is completed.\\nWhen the task is completed, you must only reply with a single word <CAMEL_TASK_DONE>.\\nNever say <CAMEL_TASK_DONE> unless my responses have solved your task.\\nRegardless of the input language, you must output text in 中文.', video_bytes=None, image_list=None, image_detail='auto', video_detail='low', parsed=None)\n",
      "\n",
      "\u001B[33m原始任务提示:\n",
      "为股票市场开发一个交易机器人\n",
      "\n",
      "\u001B[36m指定的任务提示:\n",
      "为股票市场开发一个智能交易机器人，能够实时分析全球新闻、社交媒体情绪和历史数据，自动执行高精度交易策略，优化投资组合，确保最大收益与最低风险。\n",
      "\n",
      "\u001B[31m最终任务提示:\n",
      "为股票市场开发一个智能交易机器人，能够实时分析全球新闻、社交媒体情绪和历史数据，自动执行高精度交易策略，优化投资组合，确保最大收益与最低风险。\n",
      "\n"
     ]
    }
   ],
   "execution_count": null
  },
  {
   "cell_type": "markdown",
   "id": "14ced1307570ec3e",
   "metadata": {},
   "source": []
  },
  {
   "metadata": {
    "ExecuteTime": {
     "end_time": "2025-03-17T01:31:32.207149Z",
     "start_time": "2025-03-17T01:31:22.545701Z"
    }
   },
   "cell_type": "code",
   "source": [
    "from camel.agents import ChatAgent\n",
    "from camel.models import ModelFactory\n",
    "from camel.types import ModelPlatformType\n",
    "import os\n",
    "from dotenv import load_dotenv\n",
    "\n",
    "load_dotenv()\n",
    "api_key = os.getenv('QWEN_API_KEY')\n",
    "\n",
    "model = ModelFactory.create(\n",
    "    model_platform=ModelPlatformType.OPENAI_COMPATIBLE_MODEL,\n",
    "    model_type=\"Qwen/Qwen2.5-72B-Instruct\",\n",
    "    url='https://api-inference.modelscope.cn/v1/',\n",
    "    api_key=api_key\n",
    ")\n",
    "\n",
    "# 创建系统消息，告诉ChatAgent自己的角色定位\n",
    "system_msg = \"You are a helpful assistant that responds to user queries.\"\n",
    "\n",
    "# 实例化一个ChatAgent\n",
    "chat_agent = ChatAgent(model=model, system_message=system_msg,output_language='zh')\n",
    "\n",
    "# 构造用户消息\n",
    "user_msg = \"Hello! Can you tell me something about CAMEL AI?\"\n",
    "\n",
    "# 将用户消息传给ChatAgent，并获取回复\n",
    "response = chat_agent.step(user_msg)\n",
    "print(\"Assistant Response:\", response.msgs[0].content)"
   ],
   "id": "7e46baabbb409882",
   "outputs": [
    {
     "name": "stdout",
     "output_type": "stream",
     "text": [
      "Assistant Response: 当然可以！CAMEL AI 是一个专注于对话式人工智能的项目，旨在创建能够进行自然、流畅对话的AI助手。CAMEL代表“Creating Aligned Machine ELements”，该项目强调对齐人类价值观和机器智能，确保AI的发展方向与人类社会的需求相匹配。CAMEL AI 努力通过不断学习和优化，提高AI在理解和生成人类语言方面的能力，以更好地服务于用户。\n"
     ]
    }
   ],
   "execution_count": 1
  },
  {
   "metadata": {
    "ExecuteTime": {
     "end_time": "2025-03-17T01:33:32.834083Z",
     "start_time": "2025-03-17T01:33:31.132415Z"
    }
   },
   "cell_type": "code",
   "source": [
    "from camel.messages import BaseMessage\n",
    "# 在用户消息中添加元数据\n",
    "user_msg_with_meta = BaseMessage.make_user_message(\n",
    "    role_name=\"User\",\n",
    "    content=\"Here is some extra context in the metadata.\",\n",
    "    meta_dict={\"context_info\": \"User is interested in AI frameworks.\"}\n",
    ")\n",
    "\n",
    "response_with_meta = chat_agent.step(user_msg_with_meta)\n",
    "print(\"Assistant Response with metadata:\", response_with_meta.msgs[0].content)"
   ],
   "id": "568dbed174ea9120",
   "outputs": [
    {
     "name": "stdout",
     "output_type": "stream",
     "text": [
      "Assistant Response with metadata: 请提供具体的元数据内容，这样我可以更好地理解并回答您的问题。如果您有任何特定的信息或背景资料想要分享，请告诉我！\n"
     ]
    }
   ],
   "execution_count": 3
  },
  {
   "metadata": {
    "ExecuteTime": {
     "end_time": "2025-03-17T01:36:27.221333Z",
     "start_time": "2025-03-17T01:36:27.211550Z"
    }
   },
   "cell_type": "code",
   "source": [
    "from camel.responses import ChatAgentResponse\n",
    "from camel.messages import BaseMessage\n",
    "from camel.types import RoleType\n",
    "\n",
    "# 创建一个 ChatAgentResponse 实例\n",
    "response = ChatAgentResponse(\n",
    "    msgs=[\n",
    "        BaseMessage(\n",
    "            role_name=\"Assistant\",  # 助手的角色名称\n",
    "            role_type=RoleType.ASSISTANT,  # 指定角色类型\n",
    "            content=\"你好，我可以帮您做什么？\",  # 消息内容\n",
    "            meta_dict={}  # 提供一个空的元数据字典（可根据需要填充）\n",
    "        )\n",
    "    ],\n",
    "    terminated=False,  # 会话未终止\n",
    "    info={\"usage\": {\"prompt_tokens\": 10, \"completion_tokens\": 15}}  # 附加信息\n",
    ")\n",
    "\n",
    "# 访问属性\n",
    "messages = response.msgs  # 获取Agent生成的消息\n",
    "is_terminated = response.terminated  # 会话是否终止\n",
    "additional_info = response.info  # 获取附加信息\n",
    "\n",
    "# 打印消息内容\n",
    "print(\"消息内容:\", messages[0].content)\n",
    "# 打印会话是否终止\n",
    "print(\"会话是否终止:\", is_terminated)\n",
    "# 打印附加信息\n",
    "print(\"附加信息:\", additional_info)"
   ],
   "id": "a97ed66cf9c3498c",
   "outputs": [
    {
     "name": "stdout",
     "output_type": "stream",
     "text": [
      "消息内容: 你好，我可以帮您做什么？\n",
      "会话是否终止: False\n",
      "附加信息: {'usage': {'prompt_tokens': 10, 'completion_tokens': 15}}\n"
     ]
    }
   ],
   "execution_count": 5
  },
  {
   "metadata": {
    "ExecuteTime": {
     "end_time": "2025-03-17T01:51:26.908346Z",
     "start_time": "2025-03-17T01:51:23.497863Z"
    }
   },
   "cell_type": "code",
   "source": [
    "from camel.agents import TaskSpecifyAgent\n",
    "from camel.models import ModelFactory\n",
    "from camel.types import ModelPlatformType, TaskType\n",
    "import os\n",
    "from dotenv import load_dotenv\n",
    "\n",
    "load_dotenv()\n",
    "api_key = os.getenv('QWEN_API_KEY')\n",
    "\n",
    "model = ModelFactory.create(\n",
    "    model_platform=ModelPlatformType.OPENAI_COMPATIBLE_MODEL,\n",
    "    model_type=\"Qwen/Qwen2.5-72B-Instruct\",\n",
    "    url='https://api-inference.modelscope.cn/v1/',\n",
    "    api_key=api_key\n",
    ")\n",
    "task_specify_agent = TaskSpecifyAgent(\n",
    "    model=model, task_type=TaskType.AI_SOCIETY,output_language='中文'\n",
    ")\n",
    "specified_task_prompt = task_specify_agent.run(\n",
    "    task_prompt=\"Improving stage presence and performance skills\",\n",
    "    meta_dict=dict(\n",
    "        assistant_role=\"Musician\", user_role=\"Student\", word_limit=100\n",
    "    ),\n",
    ")\n",
    "print(f\"Specified task prompt:\\n{specified_task_prompt}\\n\")"
   ],
   "id": "ca237e7baa4ad537",
   "outputs": [
    {
     "name": "stdout",
     "output_type": "stream",
     "text": [
      "Specified task prompt:\n",
      "音乐家将通过模拟不同场景的现场表演，指导学生如何更好地与观众互动，掌握舞台走位技巧，以及如何在紧张情况下保持冷静自信。\n",
      "\n"
     ]
    }
   ],
   "execution_count": 6
  },
  {
   "metadata": {
    "ExecuteTime": {
     "end_time": "2025-03-17T01:52:48.213743Z",
     "start_time": "2025-03-17T01:52:33.561669Z"
    }
   },
   "cell_type": "code",
   "source": [
    "from camel.agents import TaskSpecifyAgent\n",
    "from camel.models import ModelFactory\n",
    "from camel.prompts import TextPrompt\n",
    "from camel.types import ModelPlatformType\n",
    "import os\n",
    "from dotenv import load_dotenv\n",
    "\n",
    "load_dotenv()\n",
    "api_key = os.getenv('QWEN_API_KEY')\n",
    "\n",
    "model = ModelFactory.create(\n",
    "    model_platform=ModelPlatformType.OPENAI_COMPATIBLE_MODEL,\n",
    "    model_type=\"Qwen/Qwen2.5-72B-Instruct\",\n",
    "    url='https://api-inference.modelscope.cn/v1/',\n",
    "    api_key=api_key\n",
    ")\n",
    "\n",
    "my_prompt_template = TextPrompt(\n",
    "    'Here is a task: I\\'m a {occupation} and I want to {task}. Help me to make this task more specific.'\n",
    ")  # 你可以根据需求自定义任何模板\n",
    "task_specify_agent = TaskSpecifyAgent(\n",
    "    model=model, task_specify_prompt=my_prompt_template,output_language='中文',\n",
    ")\n",
    "response = task_specify_agent.run(\n",
    "    task_prompt=\"get promotion\",\n",
    "    meta_dict=dict(occupation=\"Software Engineer\"),\n",
    ")\n",
    "print(response)"
   ],
   "id": "5d92776598c71a0",
   "outputs": [
    {
     "name": "stdout",
     "output_type": "stream",
     "text": [
      "为了帮助你作为一名软件工程师获得晋升，我们可以将这个目标具体化为以下几个步骤：\n",
      "\n",
      "1. **明确晋升目标**：了解你希望晋升的具体职位是什么，例如高级软件工程师、技术主管或项目经理等。\n",
      "\n",
      "2. **研究职位要求**：详细了解目标职位的职责和要求，包括所需的技术技能、管理能力、项目经验等。\n",
      "\n",
      "3. **评估个人差距**：对比自己的当前能力和目标职位的要求，找出需要提升的地方。\n",
      "\n",
      "4. **制定学习计划**：针对个人差距，制定详细的学习和发展计划，包括参加培训课程、阅读专业书籍、参与相关项目等。\n",
      "\n",
      "5. **增加项目经验**：主动承担更多责任，参与或领导重要项目，以积累实际工作经验。\n",
      "\n",
      "6. **提高沟通与协作能力**：加强团队合作，提高与同事、上级及客户的沟通技巧。\n",
      "\n",
      "7. **展示领导力**：在日常工作中展现领导才能，如指导新员工、提出创新解决方案等。\n",
      "\n",
      "8. **建立人脉关系**：积极参加行业会议和技术交流活动，扩大职业网络。\n",
      "\n",
      "9. **准备晋升材料**：整理工作成果和业绩，准备好简历和面试所需的材料。\n",
      "\n",
      "10. **寻求反馈与支持**：定期向上级和同事寻求反馈，了解自己的表现，并争取他们的支持和推荐。\n",
      "\n",
      "通过这些具体的步骤，你可以更有针对性地提升自己，从而增加获得晋升的机会。\n"
     ]
    }
   ],
   "execution_count": 7
  },
  {
   "metadata": {
    "ExecuteTime": {
     "end_time": "2025-03-17T01:53:22.505378Z",
     "start_time": "2025-03-17T01:53:22.498201Z"
    }
   },
   "cell_type": "code",
   "source": [
    "from camel.prompts import TextPrompt\n",
    "prompt = TextPrompt('Please enter your name and age: {name}, {age}')\n",
    "print(prompt)"
   ],
   "id": "5abc75ea6719387e",
   "outputs": [
    {
     "name": "stdout",
     "output_type": "stream",
     "text": [
      "Please enter your name and age: {name}, {age}\n"
     ]
    }
   ],
   "execution_count": 8
  },
  {
   "metadata": {
    "ExecuteTime": {
     "end_time": "2025-04-02T01:00:02.774497Z",
     "start_time": "2025-04-02T00:59:44.513762Z"
    }
   },
   "cell_type": "code",
   "source": [
    "from camel.agents import TaskSpecifyAgent\n",
    "from camel.models import ModelFactory\n",
    "from camel.types import ModelPlatformType, TaskType\n",
    "from camel.prompts import TextPrompt\n",
    "import os\n",
    "from dotenv import load_dotenv\n",
    "\n",
    "load_dotenv()\n",
    "api_key = os.getenv('QWEN_API_KEY')\n",
    "\n",
    "model = ModelFactory.create(\n",
    "    model_platform=ModelPlatformType.OPENAI_COMPATIBLE_MODEL,\n",
    "    model_type=\"Qwen/Qwen2.5-72B-Instruct\",\n",
    "    url='https://api-inference.modelscope.cn/v1/',\n",
    "    api_key=api_key\n",
    ")\n",
    "task_specify_agent = TaskSpecifyAgent(\n",
    "    model=model, task_type=TaskType.AI_SOCIETY,output_language='中文'\n",
    ")\n",
    "specified_task_prompt = task_specify_agent.run(\n",
    "    task_prompt=\"Improving stage presence and performance skills\",\n",
    "    meta_dict=dict(\n",
    "        assistant_role=\"Musician\", user_role=\"Student\", word_limit=100\n",
    "    ),\n",
    ")\n",
    "print(f\"Specified task prompt:\\n{specified_task_prompt}\\n\")\n",
    "\n",
    "\n",
    "my_prompt_template = TextPrompt(\n",
    "    'Here is a task: I\\'m a {occupation} and I want to {task}. Help me to make this task more specific.'\n",
    ")  # 你可以根据需求自定义任何模板\n",
    "task_specify_agent = TaskSpecifyAgent(\n",
    "    model=model, task_specify_prompt=my_prompt_template\n",
    ")\n",
    "response = task_specify_agent.run(\n",
    "    task_prompt=\"get promotion\",\n",
    "    meta_dict=dict(occupation=\"Software Engineer\"),\n",
    ")\n",
    "print(response)"
   ],
   "id": "f511edebb892274d",
   "outputs": [
    {
     "name": "stdout",
     "output_type": "stream",
     "text": [
      "Specified task prompt:\n",
      "音乐家将通过模拟演出、角色扮演和即兴创作，帮助学生提升舞台表现力和表演技巧，增强自信与互动能力。\n",
      "\n",
      "Certainly! To make your goal of getting a promotion as a Software Engineer more specific, you can break it down into clear, actionable steps. Here’s a more detailed version of your task:\n",
      "\n",
      "### Specific Task: Achieve a Promotion as a Software Engineer\n",
      "\n",
      "#### 1. **Understand the Requirements for Promotion**\n",
      "   - **Research the Promotion Criteria:** Review your company's promotion guidelines and criteria. Speak with your manager or HR to understand what is expected for the next level.\n",
      "   - **Identify Key Skills and Responsibilities:** List the skills and responsibilities required for the higher position.\n",
      "\n",
      "#### 2. **Set Clear Goals**\n",
      "   - **Short-Term Goals:** Define what you need to achieve in the next 3-6 months to be on track for a promotion.\n",
      "   - **Long-Term Goals:** Set goals for the next 6-12 months that will demonstrate your readiness for the higher role.\n",
      "\n",
      "#### 3. **Enhance Your Technical Skills**\n",
      "   - **Learn New Technologies:** Identify and learn new technologies or tools that are relevant to your desired role.\n",
      "   - **Improve Existing Skills:** Enhance your current technical skills to a more advanced level.\n",
      "   - **Take Online Courses or Certifications:** Enroll in relevant courses or certifications to boost your credentials.\n",
      "\n",
      "#### 4. **Develop Soft Skills**\n",
      "   - **Leadership:** Take on leadership roles in projects or team activities.\n",
      "   - **Communication:** Improve your communication skills, both written and verbal.\n",
      "   - **Problem-Solving:** Develop your ability to solve complex problems efficiently.\n",
      "   - **Teamwork:** Collaborate effectively with team members and cross-functional teams.\n",
      "\n",
      "#### 5. **Increase Your Visibility**\n",
      "   - **Contribute to Company Initiatives:** Participate in or lead initiatives that align with company goals.\n",
      "   - **Present Your Work:** Volunteer to present your work in meetings or at company events.\n",
      "   - **Network Internally:** Build relationships with colleagues and higher-ups in your organization.\n",
      "\n",
      "#### 6. **Document Your Achievements**\n",
      "   - **Keep a Log:** Maintain a record of your accomplishments, including projects completed, skills learned, and positive feedback received.\n",
      "   - **Quantify Results:** Where possible, quantify the impact of your contributions (e.g., increased efficiency, cost savings).\n",
      "\n",
      "#### 7. **Seek Feedback and Mentorship**\n",
      "   - **Regular Check-Ins:** Schedule regular check-ins with your manager to discuss your progress and get feedback.\n",
      "   - **Find a Mentor:** Seek out a mentor who has been promoted to the role you aspire to and learn from their experiences.\n",
      "   - **Act on Feedback:** Use the feedback you receive to make continuous improvements.\n",
      "\n",
      "#### 8. **Prepare for the Promotion Process**\n",
      "   - **Update Your Resume and LinkedIn Profile:** Ensure your resume and LinkedIn profile reflect your current skills and achievements.\n",
      "   - **Prepare a Promotion Package:** Compile a comprehensive package that highlights your qualifications and contributions.\n",
      "   - **Practice Interviewing:** Prepare for potential interviews by practicing common promotion interview questions.\n",
      "\n",
      "#### 9. **Request a Promotion Review**\n",
      "   - **Schedule a Meeting:** Once you feel confident in your readiness, request a meeting with your manager to discuss your promotion.\n",
      "   - **Present Your Case:** Clearly and confidently present your achievements and how they align with the promotion criteria.\n",
      "   - **Be Open to Discussion:** Be prepared to address any concerns or areas for improvement that your manager may raise.\n",
      "\n",
      "By breaking down your goal into these specific steps, you can create a clear and actionable plan to achieve your promotion. Good luck!\n"
     ]
    }
   ],
   "execution_count": 2
  },
  {
   "metadata": {
    "ExecuteTime": {
     "end_time": "2025-04-02T01:17:19.097222Z",
     "start_time": "2025-04-02T01:17:19.090167Z"
    }
   },
   "cell_type": "code",
   "source": [
    "from camel.memories.blocks import ChatHistoryBlock\n",
    "from camel.memories.records import MemoryRecord\n",
    "from camel.types import OpenAIBackendRole\n",
    "from camel.messages import BaseMessage\n",
    "\n",
    "# 创建一个 ChatHistoryBlock 实例\n",
    "chat_history = ChatHistoryBlock(keep_rate=0.8)\n",
    "\n",
    "# 模拟写入一些消息记录\n",
    "chat_history.write_records([\n",
    "    MemoryRecord(message=BaseMessage.make_assistant_message(role_name=\"user\", content=\"Hello,今天感觉怎么样？\"), role_at_backend=OpenAIBackendRole.USER),\n",
    "    MemoryRecord(message=BaseMessage.make_user_message(role_name=\"assistant\", content=\"我很好，谢谢！\"), role_at_backend=OpenAIBackendRole.ASSISTANT),\n",
    "    MemoryRecord(message=BaseMessage.make_user_message(role_name=\"user\", content=\"你能做些什么？\"), role_at_backend=OpenAIBackendRole.USER),\n",
    "    MemoryRecord(message=BaseMessage.make_assistant_message(role_name=\"assistant\", content=\"我可以帮助你完成各种任务。\"), role_at_backend=OpenAIBackendRole.ASSISTANT),\n",
    "])\n",
    "\n",
    "# 检索最近的 3 条消息\n",
    "recent_records = chat_history.retrieve(window_size=4)\n",
    "\n",
    "for record in recent_records:\n",
    "    print(f\"消息: {record.memory_record.message.content}, 权重: {record.score}\")"
   ],
   "id": "36c6d02dc45b89e4",
   "outputs": [
    {
     "name": "stdout",
     "output_type": "stream",
     "text": [
      "消息: Hello,今天感觉怎么样？, 权重: 0.40960000000000013\n",
      "消息: 我很好，谢谢！, 权重: 0.5120000000000001\n",
      "消息: 你能做些什么？, 权重: 0.6400000000000001\n",
      "消息: 我可以帮助你完成各种任务。, 权重: 0.8\n"
     ]
    }
   ],
   "execution_count": 3
  },
  {
   "metadata": {
    "ExecuteTime": {
     "end_time": "2025-04-02T01:26:29.836808Z",
     "start_time": "2025-04-02T01:26:29.820581Z"
    }
   },
   "cell_type": "code",
   "source": [
    "from camel.memories import (\n",
    "    LongtermAgentMemory,\n",
    "    MemoryRecord,\n",
    "    ScoreBasedContextCreator,\n",
    "    ChatHistoryBlock,\n",
    "    VectorDBBlock,\n",
    ")\n",
    "from camel.messages import BaseMessage\n",
    "from camel.types import ModelType, OpenAIBackendRole\n",
    "from camel.utils import OpenAITokenCounter\n",
    "from camel.embeddings import SentenceTransformerEncoder\n",
    "\n",
    "# 1. 初始化内存系统\n",
    "memory = LongtermAgentMemory(\n",
    "    context_creator=ScoreBasedContextCreator(\n",
    "        token_counter=OpenAITokenCounter(ModelType.GPT_4O_MINI),\n",
    "        token_limit=1024,\n",
    "    ),\n",
    "    chat_history_block=ChatHistoryBlock(),\n",
    "    vector_db_block=VectorDBBlock(embedding=SentenceTransformerEncoder(model_name=\"BAAI/bge-m3\")),\n",
    ")\n",
    "\n",
    "# 2. 创建记忆记录\n",
    "records = [\n",
    "    MemoryRecord(\n",
    "        message=BaseMessage.make_user_message(\n",
    "            role_name=\"User\",\n",
    "            content=\"什么是CAMEL AI?\"\n",
    "        ),\n",
    "        role_at_backend=OpenAIBackendRole.USER,\n",
    "    ),\n",
    "    MemoryRecord(\n",
    "        message=BaseMessage.make_assistant_message(\n",
    "            role_name=\"Agent\",\n",
    "            content=\"CAMEL-AI是第一个LLM多智能体框架,并且是一个致力于寻找智能体 scaling law 的开源社区。\"\n",
    "        ),\n",
    "        role_at_backend=OpenAIBackendRole.ASSISTANT,\n",
    "    ),\n",
    "]\n",
    "\n",
    "# 3. 写入记忆\n",
    "memory.write_records(records)\n",
    "\n",
    "context, token_count = memory.get_context()\n",
    "\n",
    "print(context)\n",
    "print(f'token消耗: {token_count}')"
   ],
   "id": "56fc4ebd191b157",
   "outputs": [
    {
     "ename": "ModuleNotFoundError",
     "evalue": "No module named 'sentence_transformers'",
     "output_type": "error",
     "traceback": [
      "\u001B[0;31m---------------------------------------------------------------------------\u001B[0m",
      "\u001B[0;31mModuleNotFoundError\u001B[0m                       Traceback (most recent call last)",
      "Cell \u001B[0;32mIn[6], line 20\u001B[0m\n\u001B[1;32m     11\u001B[0m \u001B[38;5;28;01mfrom\u001B[39;00m \u001B[38;5;21;01mcamel\u001B[39;00m\u001B[38;5;21;01m.\u001B[39;00m\u001B[38;5;21;01membeddings\u001B[39;00m \u001B[38;5;28;01mimport\u001B[39;00m SentenceTransformerEncoder\n\u001B[1;32m     13\u001B[0m \u001B[38;5;66;03m# 1. 初始化内存系统\u001B[39;00m\n\u001B[1;32m     14\u001B[0m memory \u001B[38;5;241m=\u001B[39m LongtermAgentMemory(\n\u001B[1;32m     15\u001B[0m     context_creator\u001B[38;5;241m=\u001B[39mScoreBasedContextCreator(\n\u001B[1;32m     16\u001B[0m         token_counter\u001B[38;5;241m=\u001B[39mOpenAITokenCounter(ModelType\u001B[38;5;241m.\u001B[39mGPT_4O_MINI),\n\u001B[1;32m     17\u001B[0m         token_limit\u001B[38;5;241m=\u001B[39m\u001B[38;5;241m1024\u001B[39m,\n\u001B[1;32m     18\u001B[0m     ),\n\u001B[1;32m     19\u001B[0m     chat_history_block\u001B[38;5;241m=\u001B[39mChatHistoryBlock(),\n\u001B[0;32m---> 20\u001B[0m     vector_db_block\u001B[38;5;241m=\u001B[39mVectorDBBlock(embedding\u001B[38;5;241m=\u001B[39mSentenceTransformerEncoder(model_name\u001B[38;5;241m=\u001B[39m\u001B[38;5;124m\"\u001B[39m\u001B[38;5;124mBAAI/bge-m3\u001B[39m\u001B[38;5;124m\"\u001B[39m)),\n\u001B[1;32m     21\u001B[0m )\n\u001B[1;32m     23\u001B[0m \u001B[38;5;66;03m# 2. 创建记忆记录\u001B[39;00m\n\u001B[1;32m     24\u001B[0m records \u001B[38;5;241m=\u001B[39m [\n\u001B[1;32m     25\u001B[0m     MemoryRecord(\n\u001B[1;32m     26\u001B[0m         message\u001B[38;5;241m=\u001B[39mBaseMessage\u001B[38;5;241m.\u001B[39mmake_user_message(\n\u001B[0;32m   (...)\u001B[0m\n\u001B[1;32m     38\u001B[0m     ),\n\u001B[1;32m     39\u001B[0m ]\n",
      "File \u001B[0;32m~/.local/lib/python3.12/site-packages/camel/embeddings/sentence_transformers_embeddings.py:45\u001B[0m, in \u001B[0;36mSentenceTransformerEncoder.__init__\u001B[0;34m(self, model_name, **kwargs)\u001B[0m\n\u001B[1;32m     31\u001B[0m \u001B[38;5;28;01mdef\u001B[39;00m \u001B[38;5;21m__init__\u001B[39m(\n\u001B[1;32m     32\u001B[0m     \u001B[38;5;28mself\u001B[39m,\n\u001B[1;32m     33\u001B[0m     model_name: \u001B[38;5;28mstr\u001B[39m \u001B[38;5;241m=\u001B[39m \u001B[38;5;124m\"\u001B[39m\u001B[38;5;124mintfloat/e5-large-v2\u001B[39m\u001B[38;5;124m\"\u001B[39m,\n\u001B[1;32m     34\u001B[0m     \u001B[38;5;241m*\u001B[39m\u001B[38;5;241m*\u001B[39mkwargs,\n\u001B[1;32m     35\u001B[0m ):\n\u001B[1;32m     36\u001B[0m \u001B[38;5;250m    \u001B[39m\u001B[38;5;124mr\u001B[39m\u001B[38;5;124;03m\"\"\"Initializes the: obj: `SentenceTransformerEmbedding` class\u001B[39;00m\n\u001B[1;32m     37\u001B[0m \u001B[38;5;124;03m    with the specified transformer model.\u001B[39;00m\n\u001B[1;32m     38\u001B[0m \n\u001B[0;32m   (...)\u001B[0m\n\u001B[1;32m     43\u001B[0m \u001B[38;5;124;03m            :class:`SentenceTransformer`, such as :obj:`prompts` etc.\u001B[39;00m\n\u001B[1;32m     44\u001B[0m \u001B[38;5;124;03m    \"\"\"\u001B[39;00m\n\u001B[0;32m---> 45\u001B[0m     \u001B[38;5;28;01mfrom\u001B[39;00m \u001B[38;5;21;01msentence_transformers\u001B[39;00m \u001B[38;5;28;01mimport\u001B[39;00m SentenceTransformer\n\u001B[1;32m     47\u001B[0m     \u001B[38;5;28mself\u001B[39m\u001B[38;5;241m.\u001B[39mmodel \u001B[38;5;241m=\u001B[39m SentenceTransformer(model_name, \u001B[38;5;241m*\u001B[39m\u001B[38;5;241m*\u001B[39mkwargs)\n",
      "\u001B[0;31mModuleNotFoundError\u001B[0m: No module named 'sentence_transformers'"
     ]
    }
   ],
   "execution_count": 6
  },
  {
   "metadata": {},
   "cell_type": "code",
   "outputs": [],
   "execution_count": null,
   "source": "",
   "id": "93ce58fa44ab4b3f"
  }
 ],
 "metadata": {
  "kernelspec": {
   "display_name": "Python 3 (ipykernel)",
   "language": "python",
   "name": "python3"
  },
  "language_info": {
   "codemirror_mode": {
    "name": "ipython",
    "version": 3
   },
   "file_extension": ".py",
   "mimetype": "text/x-python",
   "name": "python",
   "nbconvert_exporter": "python",
   "pygments_lexer": "ipython3",
   "version": "3.12.7"
  }
 },
 "nbformat": 4,
 "nbformat_minor": 5
}
